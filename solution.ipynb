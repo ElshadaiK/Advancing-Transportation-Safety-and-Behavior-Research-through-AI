{
 "cells": [
  {
   "cell_type": "markdown",
   "metadata": {},
   "source": [
    "# GSoc TRIP Test Project: \n",
    "Advancing Transportation Safety through AI\n",
    "\n",
    "## Objective: \n",
    "\n",
    "Explore machine learning and AI to enhance the analysis of data collected by a high-fidelity driving simulator and integrated eye tracking\n"
   ]
  },
  {
   "cell_type": "markdown",
   "metadata": {},
   "source": [
    "#### Import Libraries"
   ]
  },
  {
   "cell_type": "code",
   "execution_count": 2,
   "metadata": {},
   "outputs": [],
   "source": [
    "import pandas as pd\n",
    "import matplotlib.pyplot as plt\n",
    "import cv2  # For video processing\n",
    "import numpy as np\n",
    "import dlib"
   ]
  },
  {
   "cell_type": "markdown",
   "metadata": {},
   "source": [
    "#### Load and Inspect Data"
   ]
  },
  {
   "cell_type": "code",
   "execution_count": null,
   "metadata": {},
   "outputs": [],
   "source": [
    "VIDEO_DATA = 'Experimenter_9110002_53.mp4'\n",
    "DAT_DATA = 'Experimenter_9110002_53.dat'"
   ]
  },
  {
   "cell_type": "code",
   "execution_count": 3,
   "metadata": {},
   "outputs": [
    {
     "name": "stdout",
     "output_type": "stream",
     "text": [
      "   DatTime  SimTime  MediaTime  LonAccel  LatAccel  Throttle  Brake  Gear  \\\n",
      "0    0.016        0   0.133333  0.000448  0.001680  1.308809    0.0   0.0   \n",
      "1    0.033        0   0.133333  0.000700  0.018673  1.308809    0.0   0.0   \n",
      "2    0.049        0   0.166666  0.000808  0.030992  1.308809    0.0   0.0   \n",
      "3    0.065        0   0.166666  0.000791  0.037267  1.308809    0.0   0.0   \n",
      "4    0.082        0   0.200000  0.000659  0.037458  1.308809    0.0   0.0   \n",
      "\n",
      "      Heading  HeadwayDistance  ...  BoxStatus  ResponseButton  \\\n",
      "0  359.999687        91.047424  ...        0.0             0.0   \n",
      "1  359.999555        91.046936  ...        0.0             0.0   \n",
      "2  359.999391        91.045715  ...        0.0             0.0   \n",
      "3  359.999225        91.044128  ...        0.0             0.0   \n",
      "4  359.999085        91.042297  ...        0.0             0.0   \n",
      "\n",
      "   CriticalEventStatus  FRAME_NUM  FILTERED_GAZE_OBJ_NAME  \\\n",
      "0                  0.0          .                       .   \n",
      "1                  0.0          .                       .   \n",
      "2                  0.0          .                       .   \n",
      "3                  0.0          .                       .   \n",
      "4                  0.0          .                       .   \n",
      "\n",
      "   ESTIMATED_CLOSEST_WORLD_INTERSECTION  REALTIME_CLOCK  hiFileTime  \\\n",
      "0                                     .               .           .   \n",
      "1                                     .               .           .   \n",
      "2                                     .               .           .   \n",
      "3                                     .               .           .   \n",
      "4                                     .               .           .   \n",
      "\n",
      "  lowFileTime Unnamed: 37  \n",
      "0           .         NaN  \n",
      "1           .         NaN  \n",
      "2           .         NaN  \n",
      "3           .         NaN  \n",
      "4           .         NaN  \n",
      "\n",
      "[5 rows x 38 columns]\n"
     ]
    }
   ],
   "source": [
    "# Load the data from the .dat file\n",
    "data = pd.read_csv(DAT_DATA, delimiter=' ') \n",
    "\n",
    "# Display the first few rows of the dataset\n",
    "print(data.head())"
   ]
  },
  {
   "cell_type": "markdown",
   "metadata": {},
   "source": [
    "#### Data Exploration"
   ]
  },
  {
   "cell_type": "code",
   "execution_count": 4,
   "metadata": {},
   "outputs": [
    {
     "name": "stdout",
     "output_type": "stream",
     "text": [
      "Index(['DatTime', 'SimTime', 'MediaTime', 'LonAccel', 'LatAccel', 'Throttle',\n",
      "       'Brake', 'Gear', 'Heading', 'HeadwayDistance', 'HeadwayTime', 'Lane',\n",
      "       'LaneOffset', 'RoadOffset', 'Steer', 'Velocity', 'XPos', 'YPos',\n",
      "       'BLINKING', 'BLINKID', 'LEFTEYELIDSTATE', 'RIGHTEYELIDSTATE',\n",
      "       'LeadVehPosX', 'LeadVehPosY', 'BoxPosX', 'BoxPosY', 'BoxPosZ',\n",
      "       'FollowCarBrakingStatus', 'BoxStatus', 'ResponseButton',\n",
      "       'CriticalEventStatus', 'FRAME_NUM', 'FILTERED_GAZE_OBJ_NAME',\n",
      "       'ESTIMATED_CLOSEST_WORLD_INTERSECTION', 'REALTIME_CLOCK', 'hiFileTime',\n",
      "       'lowFileTime', 'Unnamed: 37'],\n",
      "      dtype='object')\n",
      "DatTime                                     0\n",
      "SimTime                                     0\n",
      "MediaTime                                   0\n",
      "LonAccel                                    0\n",
      "LatAccel                                    0\n",
      "Throttle                                    0\n",
      "Brake                                       0\n",
      "Gear                                        0\n",
      "Heading                                     0\n",
      "HeadwayDistance                             0\n",
      "HeadwayTime                                 0\n",
      "Lane                                        0\n",
      "LaneOffset                                  0\n",
      "RoadOffset                                  0\n",
      "Steer                                       0\n",
      "Velocity                                    0\n",
      "XPos                                        0\n",
      "YPos                                        0\n",
      "BLINKING                                    0\n",
      "BLINKID                                     0\n",
      "LEFTEYELIDSTATE                             0\n",
      "RIGHTEYELIDSTATE                            0\n",
      "LeadVehPosX                                 0\n",
      "LeadVehPosY                                 0\n",
      "BoxPosX                                     0\n",
      "BoxPosY                                     0\n",
      "BoxPosZ                                     0\n",
      "FollowCarBrakingStatus                      0\n",
      "BoxStatus                                   0\n",
      "ResponseButton                              0\n",
      "CriticalEventStatus                         0\n",
      "FRAME_NUM                                   0\n",
      "FILTERED_GAZE_OBJ_NAME                      0\n",
      "ESTIMATED_CLOSEST_WORLD_INTERSECTION        0\n",
      "REALTIME_CLOCK                              0\n",
      "hiFileTime                                  0\n",
      "lowFileTime                                 0\n",
      "Unnamed: 37                             27750\n",
      "dtype: int64\n"
     ]
    }
   ],
   "source": [
    "# Explore the dataset\n",
    "print(data.columns)\n",
    "\n",
    "# Check for missing values\n",
    "print(data.isnull().sum())\n"
   ]
  },
  {
   "cell_type": "code",
   "execution_count": 5,
   "metadata": {},
   "outputs": [],
   "source": [
    "# Remove the 'Unnamed: 37' column\n",
    "data.drop('Unnamed: 37', axis=1, inplace=True)"
   ]
  },
  {
   "cell_type": "code",
   "execution_count": 6,
   "metadata": {},
   "outputs": [],
   "source": [
    "# Convert time columns to appropriate format if necessary\n",
    "data['DatTime'] = pd.to_datetime(data['DatTime'])\n",
    "data['SimTime'] = pd.to_datetime(data['SimTime'])\n",
    "data['MediaTime'] = pd.to_datetime(data['MediaTime'])\n"
   ]
  },
  {
   "cell_type": "markdown",
   "metadata": {},
   "source": [
    "#### Data Pre-processing"
   ]
  },
  {
   "cell_type": "code",
   "execution_count": 7,
   "metadata": {},
   "outputs": [],
   "source": [
    "from sklearn.preprocessing import StandardScaler, MinMaxScaler\n",
    "\n",
    "# Standardization\n",
    "standard_scaler = StandardScaler()\n",
    "data[['LonAccel', 'LatAccel', 'Velocity', 'Throttle', 'Brake']] = standard_scaler.fit_transform(data[['LonAccel', 'LatAccel', 'Velocity', 'Throttle', 'Brake']])\n",
    "\n",
    "# Normalization \n",
    "min_max_scaler = MinMaxScaler()\n",
    "data[['LonAccel', 'LatAccel', 'Velocity', 'Throttle', 'Brake']] = min_max_scaler.fit_transform(data[['LonAccel', 'LatAccel', 'Velocity', 'Throttle', 'Brake']])\n"
   ]
  },
  {
   "cell_type": "markdown",
   "metadata": {},
   "source": [
    "#### Feature Engineering"
   ]
  },
  {
   "cell_type": "code",
   "execution_count": 8,
   "metadata": {},
   "outputs": [
    {
     "name": "stderr",
     "output_type": "stream",
     "text": [
      "/var/folders/z8/_vvjvjp17jx590_gh4qpr1z40000gn/T/ipykernel_33890/4185685478.py:5: FutureWarning: A value is trying to be set on a copy of a DataFrame or Series through chained assignment using an inplace method.\n",
      "The behavior will change in pandas 3.0. This inplace method will never work because the intermediate object on which we are setting values always behaves as a copy.\n",
      "\n",
      "For example, when doing 'df[col].method(value, inplace=True)', try using 'df.method({col: value}, inplace=True)' or df[col] = df[col].method(value) instead, to perform the operation inplace on the original object.\n",
      "\n",
      "\n",
      "  data['SimTimeDiff'].replace(0, 1, inplace=True)  # replace 0 with 1 to avoid division by zero\n"
     ]
    }
   ],
   "source": [
    "# Convert SimTime differences to seconds (assuming SimTime is in a datetime format)\n",
    "data['SimTimeDiff'] = data['SimTime'].diff().dt.total_seconds()\n",
    "\n",
    "# Ensure there are no NaN or 0 values to avoid division errors\n",
    "data['SimTimeDiff'].replace(0, 1, inplace=True)  # replace 0 with 1 to avoid division by zero\n",
    "\n",
    "# Now calculate the AccelRate\n",
    "data['AccelRate'] = data['Velocity'].diff() / data['SimTimeDiff']\n",
    "\n",
    "# Overall Acceleration (sqrt of the sum of squares of LonAccel and LatAccel)\n",
    "data['OverallAccel'] = np.sqrt(data['LonAccel']**2 + data['LatAccel']**2)\n",
    "\n",
    "# Lane Deviation (absolute lane offset might be a simple measure)\n",
    "data['LaneDeviation'] = data['LaneOffset'].abs()"
   ]
  },
  {
   "cell_type": "markdown",
   "metadata": {},
   "source": [
    "### Driver Risk Assessment Documentation\n",
    "\n",
    "#### Overview\n",
    "\n",
    "Our Driver Risk Assessment model is an advanced analytical tool designed to quantify the risk level of a driver's behavior during a simulated driving scenario. By integrating a series of kinematic and behavioral parameters, the model offers a comprehensive evaluation of potential driving hazards.\n",
    "\n",
    "#### Methodology\n",
    "\n",
    "The assessment is based on four key indicators of driving behavior, known to contribute to overall driving risk:\n",
    "\n",
    "- **High Speed**: Evaluating instances where the vehicle's velocity exceeds a threshold determined by the 85th percentile of the observed velocity distribution. This percentile was chosen to capture speeds higher than those of typical driving conditions while excluding extreme outliers.\n",
    "\n",
    "- **Sudden Braking**: Identifying moments of abrupt deceleration, a potential indicator of reactive driving, which can be a sign of risk. The threshold is set at the 99th percentile of the absolute change in brake pressure between successive observations.\n",
    "\n",
    "- **Erratic Steering**: Monitoring the vehicle's steering behavior to pinpoint erratic movements. The threshold for what constitutes 'erratic' is the 99th percentile of the absolute change in steering angle, capturing significant deviations from smooth steering patterns.\n",
    "\n",
    "- **Lane Deviation**: Recognizing significant deviations from the lane center, which could lead to safety concerns. The measure uses an Interquartile Range (IQR) method to set a threshold, where any lane offset beyond 1.5 times the IQR from the third quartile (upper whisker of the data) is considered a lane deviation.\n",
    "\n",
    "#### Quantification Process\n",
    "\n",
    "Each occurrence of the aforementioned behaviors increments the driver's risk score:\n",
    "\n",
    "- A binary flag for each risk indicator is set to true when its respective threshold is exceeded.\n",
    "- These flags are then summed to create a composite `RiskScore` for each observation point within the driving data.\n",
    "- The overall risk score is aggregated across the dataset to provide a single risk metric.\n",
    "\n",
    "#### Results\n",
    "\n",
    "- The cumulative `RiskScore` across all observations provides insight into the prevalence and frequency of risky driving behaviors.\n",
    "- For the analyzed dataset, the Total Risk Score is calculated to be 4744, reflecting the aggregate measure of risk throughout the simulation period.\n"
   ]
  },
  {
   "cell_type": "code",
   "execution_count": 9,
   "metadata": {},
   "outputs": [
    {
     "data": {
      "image/png": "[encoded data removed]",
      "text/plain": [
       "<Figure size 640x480 with 1 Axes>"
      ]
     },
     "metadata": {},
     "output_type": "display_data"
    }
   ],
   "source": [
    "import seaborn as sns\n",
    "\n",
    "sns.histplot(data['Velocity'], kde=True)\n",
    "plt.title('Velocity Distribution')\n",
    "plt.xlabel('Velocity (unit)')\n",
    "plt.ylabel('Frequency')\n",
    "plt.show()"
   ]
  },
  {
   "cell_type": "code",
   "execution_count": 10,
   "metadata": {},
   "outputs": [
    {
     "data": {
      "image/png": "[encoded data removed]",
      "text/plain": [
       "<Figure size 640x480 with 1 Axes>"
      ]
     },
     "metadata": {},
     "output_type": "display_data"
    }
   ],
   "source": [
    "sns.histplot(data['Brake'].diff().abs(), kde=True, bins=30)\n",
    "plt.title('Change in Brake Pressure Distribution')\n",
    "plt.xlabel('Change in Brake Pressure')\n",
    "plt.ylabel('Frequency')\n",
    "plt.show()\n"
   ]
  },
  {
   "cell_type": "code",
   "execution_count": 11,
   "metadata": {},
   "outputs": [
    {
     "data": {
      "image/png": "[encoded data removed]",
      "text/plain": [
       "<Figure size 640x480 with 1 Axes>"
      ]
     },
     "metadata": {},
     "output_type": "display_data"
    }
   ],
   "source": [
    "sns.histplot(data['Steer'].diff().abs(), kde=True, bins=30)\n",
    "plt.title('Steering Angle Changes Distribution')\n",
    "plt.xlabel('Change in Steering Angle')\n",
    "plt.ylabel('Frequency')\n",
    "plt.show()\n"
   ]
  },
  {
   "cell_type": "code",
   "execution_count": 12,
   "metadata": {},
   "outputs": [
    {
     "data": {
      "image/png": "[encoded data removed]",
      "text/plain": [
       "<Figure size 640x480 with 1 Axes>"
      ]
     },
     "metadata": {},
     "output_type": "display_data"
    }
   ],
   "source": [
    "sns.boxplot(x=data['LaneOffset'].abs())\n",
    "plt.title('Absolute Lane Deviation Distribution')\n",
    "plt.xlabel('Lane Deviation (meters)')\n",
    "plt.show()\n"
   ]
  },
  {
   "cell_type": "code",
   "execution_count": 23,
   "metadata": {},
   "outputs": [],
   "source": [
    "high_speed_threshold = np.percentile(data['Velocity'], 85)\n",
    "sudden_brake_threshold = np.percentile(data['Brake'].diff().abs(), 99)\n",
    "erratic_steering_threshold = np.percentile(data['Steer'].diff().abs(), 99)\n",
    "\n",
    "# Calculate the IQR\n",
    "Q3 = np.percentile(data['LaneOffset'].abs(), 75)\n",
    "Q1 = np.percentile(data['LaneOffset'].abs(), 25)\n",
    "IQR = Q3 - Q1\n",
    "\n",
    "# Determine the end of the upper whisker\n",
    "upper_whisker = Q3 + 1.5 * IQR\n",
    "\n",
    "# Any value beyond this might be considered as a lane deviation that could indicate risky behavior.\n",
    "lane_deviation_threshold = upper_whisker"
   ]
  },
  {
   "cell_type": "markdown",
   "metadata": {},
   "source": [
    "#### Calculating Risk Indicators"
   ]
  },
  {
   "cell_type": "code",
   "execution_count": 24,
   "metadata": {},
   "outputs": [],
   "source": [
    "# High Speed\n",
    "data['HighSpeed'] = data['Velocity'] > high_speed_threshold\n",
    "\n",
    "# Sudden Braking\n",
    "data['SuddenBraking'] = data['Brake'].diff().abs() > sudden_brake_threshold\n",
    "\n",
    "# Erratic Steering\n",
    "data['ErraticSteering'] = data['Steer'].diff().abs() > erratic_steering_threshold\n",
    "\n",
    "# Lane Deviation\n",
    "data['LaneDeviation'] = data['LaneOffset'].abs() > lane_deviation_threshold\n"
   ]
  },
  {
   "cell_type": "markdown",
   "metadata": {},
   "source": [
    "#### Aggregating Risk Score"
   ]
  },
  {
   "cell_type": "code",
   "execution_count": 25,
   "metadata": {},
   "outputs": [],
   "source": [
    "data['RiskScore'] = data[['HighSpeed', 'SuddenBraking', 'ErraticSteering', 'LaneDeviation']].sum(axis=1)\n"
   ]
  },
  {
   "cell_type": "code",
   "execution_count": 26,
   "metadata": {},
   "outputs": [
    {
     "name": "stdout",
     "output_type": "stream",
     "text": [
      "Total Risk Score is: 4744\n"
     ]
    }
   ],
   "source": [
    "# Convert SimTimeDiff to cumulative seconds\n",
    "data['CumulativeTime'] = data['SimTimeDiff'].cumsum()\n",
    "\n",
    "# Calculate the total risk score up to that index\n",
    "total_risk_score = data.loc[:, 'RiskScore'].sum()\n",
    "\n",
    "print(f\"Total Risk Score is: {total_risk_score}\")"
   ]
  },
  {
   "cell_type": "markdown",
   "metadata": {},
   "source": [
    "### Drowsiness Detection and Attentiveness Checking in Video Analysis\n",
    "\n",
    "#### How It Works\n",
    "\n",
    "Our system processes video footage frame-by-frame, applying advanced computer vision techniques to detect and analyze facial features, focusing on two key aspects: drowsiness detection and attentiveness checking.\n",
    "\n",
    "#### Drowsiness Detection\n",
    "\n",
    "- **Face and Eye Detection**: The system first identifies human faces in each frame. Using dlib's facial landmark detection technology, it then locates key facial landmarks, with a particular focus on the eyes.\n",
    "\n",
    "- **Eye Aspect Ratio (EAR) Analysis**: A crucial part of the process is calculating the 'Eye Aspect Ratio' or EAR. This geometric measure, derived from the eye landmarks, helps in determining how open or closed the eyes are.\n",
    "\n",
    "- **Drowsiness Indication**: The system uses a predefined EAR threshold to judge if an eye is considered to be 'closed' or 'nearly closed.' An EAR below this threshold indicates that the eyes are closed to a degree, suggesting potential drowsiness or fatigue.\n",
    "\n",
    "- **Quantification and Alerts**: The system quantifies the frequency of drowsiness signs detected within the first five minutes of the video. It provides an overall drowsiness frequency score and generates on-screen alerts for immediate visual feedback when drowsiness is detected.\n",
    "\n",
    "#### Attentiveness Checking\n",
    "\n",
    "- **Simplified Face Detection**: For attentiveness, the system periodically checks for the presence of faces within the video frames. The absence of a face over several intervals may imply inattentiveness.\n",
    "\n",
    "- **Time-Specific Analysis**: This check is performed specifically for the initial five minutes of the video, providing a focused assessment of attentiveness during this critical period.\n",
    "\n",
    "- **Attentiveness Score**: Similar to drowsiness detection, the system calculates an attentiveness score based on the frequency of face detection in the first five minutes, offering a quantitative measure of the subject's attentiveness.\n",
    "\n",
    "#### Interactive Display\n",
    "\n",
    "- The system visually highlights important facial regions, such as the eyes for drowsiness detection and the overall face for attentiveness checks, in real-time. This interactive display aids in understanding what the system is analyzing at any moment.\n"
   ]
  },
  {
   "cell_type": "markdown",
   "metadata": {},
   "source": [
    "#### Face and Eye Tracking"
   ]
  },
  {
   "cell_type": "code",
   "execution_count": 27,
   "metadata": {},
   "outputs": [],
   "source": [
    "# Load the face and eye cascade classifiers\n",
    "face_cascade = cv2.CascadeClassifier(cv2.data.haarcascades + 'haarcascade_frontalface_default.xml')\n",
    "eye_cascade = cv2.CascadeClassifier(cv2.data.haarcascades + 'haarcascade_eye.xml')"
   ]
  },
  {
   "cell_type": "code",
   "execution_count": 28,
   "metadata": {},
   "outputs": [],
   "source": [
    "# Initialize dlib's face detector (HOG-based) and then create the facial landmark predictor\n",
    "p = \"./shape_predictor_68_face_landmarks.dat\"  \n",
    "detector = dlib.get_frontal_face_detector()\n",
    "predictor = dlib.shape_predictor(p)\n",
    "\n",
    "# Define a function to calculate EAR given eye landmarks\n",
    "def calculate_ear(eye_points):\n",
    "    # Calculate the distances between the two sets of vertical eye landmarks (x, y)-coordinates\n",
    "    A = np.linalg.norm(eye_points[1] - eye_points[5])\n",
    "    B = np.linalg.norm(eye_points[2] - eye_points[4])\n",
    "\n",
    "    # Calculate the distance between the horizontal eye landmark (x, y)-coordinates\n",
    "    C = np.linalg.norm(eye_points[0] - eye_points[3])\n",
    "\n",
    "    # Compute the eye aspect ratio\n",
    "    ear = (A + B) / (2.0 * C)\n",
    "\n",
    "    return ear"
   ]
  },
  {
   "cell_type": "code",
   "execution_count": 29,
   "metadata": {},
   "outputs": [],
   "source": [
    "# EAR threshold for blink detection; I will need to calibrate this\n",
    "EAR_THRESHOLD = 0.3"
   ]
  },
  {
   "cell_type": "code",
   "execution_count": 30,
   "metadata": {},
   "outputs": [
    {
     "ename": "KeyboardInterrupt",
     "evalue": "",
     "output_type": "error",
     "traceback": [
      "\u001b[0;31m---------------------------------------------------------------------------\u001b[0m",
      "\u001b[0;31mKeyboardInterrupt\u001b[0m                         Traceback (most recent call last)",
      "Cell \u001b[0;32mIn[30], line 33\u001b[0m\n\u001b[1;32m     30\u001b[0m     \u001b[38;5;28;01mif\u001b[39;00m \u001b[38;5;129;01mnot\u001b[39;00m ret:\n\u001b[1;32m     31\u001b[0m         \u001b[38;5;28;01mbreak\u001b[39;00m\n\u001b[0;32m---> 33\u001b[0m     \u001b[38;5;28;01mif\u001b[39;00m \u001b[43mdetect_drowsiness\u001b[49m\u001b[43m(\u001b[49m\u001b[43mframe\u001b[49m\u001b[43m,\u001b[49m\u001b[43m \u001b[49m\u001b[43mdetector\u001b[49m\u001b[43m,\u001b[49m\u001b[43m \u001b[49m\u001b[43mpredictor\u001b[49m\u001b[43m)\u001b[49m:\n\u001b[1;32m     34\u001b[0m         drowsiness_count \u001b[38;5;241m+\u001b[39m\u001b[38;5;241m=\u001b[39m \u001b[38;5;241m1\u001b[39m\n\u001b[1;32m     36\u001b[0m video_capture\u001b[38;5;241m.\u001b[39mrelease()\n",
      "Cell \u001b[0;32mIn[30], line 3\u001b[0m, in \u001b[0;36mdetect_drowsiness\u001b[0;34m(frame, detector, predictor)\u001b[0m\n\u001b[1;32m      1\u001b[0m \u001b[38;5;28;01mdef\u001b[39;00m \u001b[38;5;21mdetect_drowsiness\u001b[39m(frame, detector, predictor):\n\u001b[1;32m      2\u001b[0m     gray \u001b[38;5;241m=\u001b[39m cv2\u001b[38;5;241m.\u001b[39mcvtColor(frame, cv2\u001b[38;5;241m.\u001b[39mCOLOR_BGR2GRAY)\n\u001b[0;32m----> 3\u001b[0m     faces \u001b[38;5;241m=\u001b[39m \u001b[43mdetector\u001b[49m\u001b[43m(\u001b[49m\u001b[43mgray\u001b[49m\u001b[43m,\u001b[49m\u001b[43m \u001b[49m\u001b[38;5;241;43m0\u001b[39;49m\u001b[43m)\u001b[49m\n\u001b[1;32m      4\u001b[0m     drowsiness_detected \u001b[38;5;241m=\u001b[39m \u001b[38;5;28;01mFalse\u001b[39;00m  \u001b[38;5;66;03m# Flag to indicate if drowsiness is detected in the frame\u001b[39;00m\n\u001b[1;32m      6\u001b[0m     \u001b[38;5;28;01mfor\u001b[39;00m face \u001b[38;5;129;01min\u001b[39;00m faces:\n",
      "\u001b[0;31mKeyboardInterrupt\u001b[0m: "
     ]
    }
   ],
   "source": [
    "def detect_drowsiness(frame, detector, predictor):\n",
    "    gray = cv2.cvtColor(frame, cv2.COLOR_BGR2GRAY)\n",
    "    faces = detector(gray, 0)\n",
    "    drowsiness_detected = False  # Flag to indicate if drowsiness is detected in the frame\n",
    "\n",
    "    for face in faces:\n",
    "        shape = predictor(gray, face)\n",
    "        shape = np.array([(shape.part(i).x, shape.part(i).y) for i in range(68)])\n",
    "\n",
    "        leftEye = shape[42:48]\n",
    "        rightEye = shape[36:42]\n",
    "\n",
    "        leftEAR = calculate_ear(leftEye)\n",
    "        rightEAR = calculate_ear(rightEye)\n",
    "        ear = (leftEAR + rightEAR) / 2.0\n",
    "\n",
    "        if ear < EAR_THRESHOLD:\n",
    "            drowsiness_detected = True\n",
    "    \n",
    "    return drowsiness_detected\n",
    "\n",
    "# Process the first 5 minutes of the video\n",
    "video_capture = cv2.VideoCapture(VIDEO_DATA)\n",
    "fps = video_capture.get(cv2.CAP_PROP_FPS)\n",
    "total_frames = int(5 * 60 * fps)  # 5 minutes\n",
    "drowsiness_count = 0\n",
    "\n",
    "for _ in range(total_frames):\n",
    "    ret, frame = video_capture.read()\n",
    "    if not ret:\n",
    "        break\n",
    "\n",
    "    if detect_drowsiness(frame, detector, predictor):\n",
    "        drowsiness_count += 1\n",
    "\n",
    "video_capture.release()\n",
    "\n",
    "# Calculate drowsiness frequency\n",
    "drowsiness_frequency = drowsiness_count / total_frames\n",
    "print(f\"Drowsiness Frequency: {drowsiness_frequency}\")\n"
   ]
  },
  {
   "cell_type": "code",
   "execution_count": 31,
   "metadata": {},
   "outputs": [
    {
     "ename": "KeyboardInterrupt",
     "evalue": "",
     "output_type": "error",
     "traceback": [
      "\u001b[0;31m---------------------------------------------------------------------------\u001b[0m",
      "\u001b[0;31mKeyboardInterrupt\u001b[0m                         Traceback (most recent call last)",
      "Cell \u001b[0;32mIn[31], line 29\u001b[0m\n\u001b[1;32m     27\u001b[0m \u001b[38;5;66;03m# Usage\u001b[39;00m\n\u001b[1;32m     28\u001b[0m face_cascade \u001b[38;5;241m=\u001b[39m cv2\u001b[38;5;241m.\u001b[39mCascadeClassifier(cv2\u001b[38;5;241m.\u001b[39mdata\u001b[38;5;241m.\u001b[39mhaarcascades \u001b[38;5;241m+\u001b[39m \u001b[38;5;124m'\u001b[39m\u001b[38;5;124mhaarcascade_frontalface_default.xml\u001b[39m\u001b[38;5;124m'\u001b[39m)\n\u001b[0;32m---> 29\u001b[0m attentiveness_score \u001b[38;5;241m=\u001b[39m \u001b[43msimple_attentiveness_check\u001b[49m\u001b[43m(\u001b[49m\u001b[38;5;124;43m'\u001b[39;49m\u001b[38;5;124;43mExperimenter_9110002_53.mp4\u001b[39;49m\u001b[38;5;124;43m'\u001b[39;49m\u001b[43m,\u001b[49m\u001b[43m \u001b[49m\u001b[43mface_cascade\u001b[49m\u001b[43m)\u001b[49m\n\u001b[1;32m     30\u001b[0m \u001b[38;5;28mprint\u001b[39m(\u001b[38;5;124mf\u001b[39m\u001b[38;5;124m\"\u001b[39m\u001b[38;5;124mAttentiveness Score: \u001b[39m\u001b[38;5;132;01m{\u001b[39;00mattentiveness_score\u001b[38;5;132;01m}\u001b[39;00m\u001b[38;5;124m\"\u001b[39m)\n",
      "Cell \u001b[0;32mIn[31], line 16\u001b[0m, in \u001b[0;36msimple_attentiveness_check\u001b[0;34m(video_path, face_cascade, interval, duration)\u001b[0m\n\u001b[1;32m     14\u001b[0m \u001b[38;5;28;01mif\u001b[39;00m frame_count \u001b[38;5;241m%\u001b[39m interval \u001b[38;5;241m==\u001b[39m \u001b[38;5;241m0\u001b[39m:\n\u001b[1;32m     15\u001b[0m     gray \u001b[38;5;241m=\u001b[39m cv2\u001b[38;5;241m.\u001b[39mcvtColor(frame, cv2\u001b[38;5;241m.\u001b[39mCOLOR_BGR2GRAY)\n\u001b[0;32m---> 16\u001b[0m     faces \u001b[38;5;241m=\u001b[39m \u001b[43mface_cascade\u001b[49m\u001b[38;5;241;43m.\u001b[39;49m\u001b[43mdetectMultiScale\u001b[49m\u001b[43m(\u001b[49m\u001b[43mgray\u001b[49m\u001b[43m,\u001b[49m\u001b[43m \u001b[49m\u001b[38;5;241;43m1.1\u001b[39;49m\u001b[43m,\u001b[49m\u001b[43m \u001b[49m\u001b[38;5;241;43m4\u001b[39;49m\u001b[43m)\u001b[49m\n\u001b[1;32m     18\u001b[0m     \u001b[38;5;28;01mif\u001b[39;00m \u001b[38;5;28mlen\u001b[39m(faces) \u001b[38;5;241m>\u001b[39m \u001b[38;5;241m0\u001b[39m:\n\u001b[1;32m     19\u001b[0m         face_detected_count \u001b[38;5;241m+\u001b[39m\u001b[38;5;241m=\u001b[39m \u001b[38;5;241m1\u001b[39m\n",
      "\u001b[0;31mKeyboardInterrupt\u001b[0m: "
     ]
    }
   ],
   "source": [
    "def simple_attentiveness_check(video_path, face_cascade, interval=30, duration=300):\n",
    "    video_capture = cv2.VideoCapture(video_path)\n",
    "    fps = video_capture.get(cv2.CAP_PROP_FPS)\n",
    "    total_frames = int(min(duration * fps, video_capture.get(cv2.CAP_PROP_FRAME_COUNT)))\n",
    "    frame_count = 0\n",
    "    face_detected_count = 0\n",
    "\n",
    "    while frame_count < total_frames:\n",
    "        ret, frame = video_capture.read()\n",
    "        if not ret:\n",
    "            break\n",
    "\n",
    "        # Check for faces every 'interval' frames\n",
    "        if frame_count % interval == 0:\n",
    "            gray = cv2.cvtColor(frame, cv2.COLOR_BGR2GRAY)\n",
    "            faces = face_cascade.detectMultiScale(gray, 1.1, 4)\n",
    "\n",
    "            if len(faces) > 0:\n",
    "                face_detected_count += 1\n",
    "\n",
    "        frame_count += 1\n",
    "\n",
    "    video_capture.release()\n",
    "    attentiveness_score = face_detected_count / (total_frames / interval)\n",
    "    return attentiveness_score\n",
    "\n",
    "# Usage\n",
    "face_cascade = cv2.CascadeClassifier(cv2.data.haarcascades + 'haarcascade_frontalface_default.xml')\n",
    "attentiveness_score = simple_attentiveness_check(VIDEO_DATA, face_cascade)\n",
    "print(f\"Attentiveness Score: {attentiveness_score}\")"
   ]
  },
  {
   "cell_type": "markdown",
   "metadata": {},
   "source": [
    "### Environmental Risk Quantification Using Pre-trained YOLO Model\n",
    "\n",
    "#### Overview\n",
    "\n",
    "To enhance driving safety and performance in simulated environments, I have integrated an environmental risk quantification module using the state-of-the-art YOLO (You Only Look Once) object detection system. This system utilizes a pre-trained model to detect and assess potential hazards within the simulation.\n",
    "\n",
    "#### Model Specification\n",
    "\n",
    "- **Model**: YOLOv3\n",
    "- **Training Data**: COCO (Common Objects in Context) Dataset\n",
    "- **Input**: Video frames from driving simulation\n",
    "- **Output**: Detection of various objects such as vehicles, pedestrians, and traffic signs with associated risk scores\n",
    "\n",
    "#### Object Detection Process\n",
    "\n",
    "1. **Pre-processing**:\n",
    "   Each frame from the driving simulation video is resized and normalized to prepare for object detection.\n",
    "\n",
    "2. **Detection**:\n",
    "   The YOLO network processes the pre-processed frames to detect objects. For each object detected, the model returns the class, confidence score, and bounding box coordinates.\n",
    "\n",
    "3. **Post-processing**:\n",
    "   Non-maximum suppression is applied to the detections to filter out overlapping boxes and retain the most accurate bounding boxes for each object.\n",
    "\n",
    "#### Risk Assessment\n",
    "\n",
    "- Each detected object is assigned a risk score based on pre-defined criteria that take into account the type of object and its relevance to driving safety. For instance, vehicles such as cars, trucks, and buses are scored differently from pedestrians.\n",
    "- The scores are cumulative, and a total environmental risk score is calculated for the duration of the video or simulation.\n",
    "\n",
    "#### Output\n",
    "\n",
    "- The module outputs a numerical `Environmental Risk Score`, representing the total quantified risk for the simulated driving session.\n",
    "- The risk score provides insights into potential hazards and the safety of the simulated environment, aiding in the development of risk mitigation strategies.\n",
    "\n",
    "#### Applications\n",
    "\n",
    "- **Driver Training**: To educate drivers about potential hazards they may encounter and improve their risk response strategies.\n",
    "- **Simulation Enhancement**: To refine the simulated environment by incorporating realistic risk factors and improving the effectiveness of the simulation.\n",
    "\n"
   ]
  },
  {
   "cell_type": "code",
   "execution_count": null,
   "metadata": {},
   "outputs": [],
   "source": [
    "\n",
    "# Load YOLO\n",
    "net = cv2.dnn.readNet('yolov3.weights', 'yolov3.cfg')\n",
    "layer_names = net.getLayerNames()\n",
    "output_layers = [layer_names[i[0] - 1] for i in net.getUnconnectedOutLayers()]\n",
    "\n",
    "# Loading the COCO class labels our YOLO model was trained on\n",
    "classes = open('coco.names').read().strip().split('\\n')\n",
    "\n",
    "# Function to get detections\n",
    "def get_detections(frame):\n",
    "    height, width, channels = frame.shape\n",
    "    # Detecting objects\n",
    "    blob = cv2.dnn.blobFromImage(frame, 0.00392, (416, 416), (0, 0, 0), True, crop=False)\n",
    "    net.setInput(blob)\n",
    "    outs = net.forward(output_layers)\n",
    "    class_ids = []\n",
    "    confidences = []\n",
    "    boxes = []\n",
    "    for out in outs:\n",
    "        for detection in out:\n",
    "            scores = detection[5:]\n",
    "            class_id = np.argmax(scores)\n",
    "            confidence = scores[class_id]\n",
    "            if confidence > 0.5:\n",
    "                # Object detected\n",
    "                center_x = int(detection[0] * width)\n",
    "                center_y = int(detection[1] * height)\n",
    "                w = int(detection[2] * width)\n",
    "                h = int(detection[3] * height)\n",
    "                # Rectangle coordinates\n",
    "                x = int(center_x - w / 2)\n",
    "                y = int(center_y - h / 2)\n",
    "                boxes.append([x, y, w, h])\n",
    "                confidences.append(float(confidence))\n",
    "                class_ids.append(class_id)\n",
    "    return boxes, confidences, class_ids\n",
    "\n",
    "# Process the video\n",
    "video_capture = cv2.VideoCapture(VIDEO_DATA)\n",
    "risk_score = 0\n",
    "\n",
    "while video_capture.isOpened():\n",
    "    ret, frame = video_capture.read()\n",
    "    if not ret:\n",
    "        break\n",
    "\n",
    "    boxes, confidences, class_ids = get_detections(frame)\n",
    "    \n",
    "    # Apply non-max suppression to boxes\n",
    "    indexes = cv2.dnn.NMSBoxes(boxes, confidences, 0.5, 0.4)\n",
    "    \n",
    "    # Quantify risk based on detections\n",
    "    for i in range(len(boxes)):\n",
    "        if i in indexes:\n",
    "            label = str(classes[class_ids[i]])\n",
    "            if label in ['car', 'truck', 'bus']:\n",
    "                risk_score += 3  # Adjust scores as per requirement\n",
    "            elif label == 'person':\n",
    "                risk_score += 5  # Pedestrians add more risk\n",
    "            # Add more conditions for other classes as needed\n",
    "\n",
    "video_capture.release()\n",
    "\n",
    "print(f\"Environmental Risk Score: {risk_score}\")\n"
   ]
  },
  {
   "cell_type": "markdown",
   "metadata": {},
   "source": [
    "\n",
    "### Documentation for Annotated Video Output\n",
    "\n",
    "\n",
    "#### Process\n",
    "\n",
    "- **Detection**: As the simulated driving video is played, the YOLO object detection model scans each frame to identify objects, classify them, and determine their location within the frame.\n",
    "- **Annotation**: Identified objects are outlined with bounding boxes. Labels and confidence levels are provided to inform users of the type of object detected and the model's certainty regarding its presence.\n",
    "- **Visualization**: Annotated frames are displayed in real-time, offering an immediate visual reference to augment the driver's awareness of their surroundings.\n",
    "\n",
    "#### Output\n",
    "\n",
    "The output is an annotated video stream where every object deemed potentially risky or attention-worthy is highlighted. This feature is particularly useful for:\n",
    "- **Safety Analysis**: By reviewing the annotated video, safety analysts can identify moments where the driver or the simulated environment introduces risk.\n",
    "- **Driver Training**: Trainee drivers can use the annotated video as a learning tool to understand which objects and scenarios require careful attention while driving.\n",
    "\n",
    "\n"
   ]
  },
  {
   "cell_type": "code",
   "execution_count": null,
   "metadata": {},
   "outputs": [],
   "source": [
    "# Load YOLO\n",
    "net = cv2.dnn.readNet('yolov3.weights', 'yolov3.cfg')\n",
    "layer_names = net.getLayerNames()\n",
    "output_layers = [layer_names[i[0] - 1] for i in net.getUnconnectedOutLayers()]\n",
    "\n",
    "# Loading the COCO class labels our YOLO model was trained on\n",
    "classes = open('coco.names').read().strip().split('\\n')\n",
    "\n",
    "# Initialize the video capture\n",
    "video_capture = cv2.VideoCapture(VIDEO_DATA)\n",
    "\n",
    "while video_capture.isOpened():\n",
    "    ret, frame = video_capture.read()\n",
    "    if not ret:\n",
    "        break\n",
    "\n",
    "    # Perform the object detection (implementation of detect_objects is provided earlier)\n",
    "    boxes, confidences, class_ids = detect_objects(frame, net, output_layers)\n",
    "\n",
    "    # Apply non-max suppression to boxes\n",
    "    indexes = cv2.dnn.NMSBoxes(boxes, confidences, 0.5, 0.4)\n",
    "\n",
    "    # Draw the boxes and label the objects\n",
    "    for i in range(len(boxes)):\n",
    "        if i in indexes:\n",
    "            x, y, w, h = boxes[i]\n",
    "            label = str(classes[class_ids[i]])\n",
    "            color = (0, 255, 0) # Green color for the boxes\n",
    "            cv2.rectangle(frame, (x, y), (x + w, y + h), color, 2)\n",
    "            cv2.putText(frame, label, (x, y - 5), cv2.FONT_HERSHEY_SIMPLEX, 0.5, color, 2)\n",
    "\n",
    "    # Display the frame with annotations\n",
    "    cv2.imshow('Frame with Annotations', frame)\n",
    "\n",
    "    if cv2.waitKey(1) & 0xFF == ord('q'):\n",
    "        break\n",
    "\n",
    "# Release the video capture and close OpenCV windows\n",
    "video_capture.release()\n",
    "cv2.destroyAllWindows()\n"
   ]
  },
  {
   "cell_type": "markdown",
   "metadata": {},
   "source": [
    "### Driver Behavior Prediction Model with Overfitting Analysis\n",
    "\n",
    "\n",
    "#### Data and Features\n",
    "\n",
    "- **Input Data**: Key kinematic and behavioral parameters from simulation data, such as `Velocity`, `AccelRate`, `Brake` pressure, `Steer` angle, and `LaneDeviation`.\n",
    "- **Target Variable**: The `RiskScore`, a computed metric based on the input features, quantifies the risk level of driving behavior.\n",
    "\n",
    "#### Model Training, Evaluation, and Overfitting Concern\n",
    "\n",
    "1. **Training Process**:\n",
    "   - The dataset is split into 70% training and 30% testing sets.\n",
    "   - The RandomForestRegressor model is then trained on the training set.\n",
    "\n",
    "2. **Evaluation Metrics**:\n",
    "   - **Mean Squared Error (MSE)** and **R² Score** are used to evaluate model accuracy and fit.\n",
    "   - **Cross-Validation** with 5-fold cross-validation using negative mean squared error assesses generalization.\n",
    "\n",
    "3. **Overfitting Analysis**:\n",
    "   - Exceptionally high accuracy metrics (near-zero MSE and R² Score close to 1) suggest potential overfitting.\n",
    "   - A key contributing factor could be the `RiskScore` itself, which is derived directly from features like speed and lane deviation. This close relationship between features and target variable could lead to the model learning to replicate the formula used to compute the `RiskScore` rather than generalizing from underlying driving behavior.\n",
    "\n",
    "#### Recommendations\n",
    "\n",
    "- **Feature Reassessment**: Reevaluate the input features and consider excluding or transforming them to reduce their direct impact on the `RiskScore`.\n",
    "- **Complexity Adjustment**: Experiment with reducing the complexity of the model to prevent it from capturing excessive noise or details in the training data.\n",
    "- **Independent Validation**: Use an independently calculated risk score or external data for validation to ensure the model's practical applicability.\n",
    "\n",
    "#### Usage and Applications\n",
    "\n",
    "- **Risk Assessment**: Despite the concern of overfitting, the model can still be valuable in highlighting key risk factors in driver behavior.\n",
    "- **Driver Training & Simulation Enhancement**: Offers insights for training programs and simulation improvements, albeit with careful consideration of the model's limitations.\n",
    "\n",
    "#### Conclusion\n",
    "\n",
    "While the Driver Behavior Prediction Model provides valuable insights into driving risks, the potential overfitting issue underscores the importance of a critical approach to feature selection and model evaluation. Adjustments and validations are necessary steps to ensure its effectiveness in real-world applications and driver safety improvements.\n",
    "\n"
   ]
  },
  {
   "cell_type": "code",
   "execution_count": 33,
   "metadata": {},
   "outputs": [
    {
     "name": "stdout",
     "output_type": "stream",
     "text": [
      "Mean Squared Error: 4.804804804804813e-08\n",
      "R^2 Score: 0.9999996633848883\n"
     ]
    }
   ],
   "source": [
    "from sklearn.model_selection import train_test_split\n",
    "from sklearn.ensemble import RandomForestRegressor\n",
    "from sklearn.metrics import mean_squared_error, r2_score\n",
    "\n",
    "# Example feature selection\n",
    "features = data[['Velocity', 'AccelRate', 'Brake', 'Steer', 'LaneDeviation']]\n",
    "labels = data['RiskScore']  \n",
    "\n",
    "# Split the dataset\n",
    "X_train, X_test, y_train, y_test = train_test_split(features, labels, test_size=0.3, random_state=42)\n",
    "\n",
    "# Initialize the model\n",
    "model = RandomForestRegressor(random_state=42)\n",
    "\n",
    "# Train the model\n",
    "model.fit(X_train, y_train)\n",
    "\n",
    "# Make predictions\n",
    "y_pred = model.predict(X_test)\n",
    "\n",
    "# Evaluate the model\n",
    "mse = mean_squared_error(y_test, y_pred)\n",
    "r2 = r2_score(y_test, y_pred)\n",
    "\n",
    "print(f\"Mean Squared Error: {mse}\")\n",
    "print(f\"R^2 Score: {r2}\")\n"
   ]
  },
  {
   "cell_type": "markdown",
   "metadata": {},
   "source": [
    "#### Validating and testing"
   ]
  },
  {
   "cell_type": "code",
   "execution_count": 34,
   "metadata": {},
   "outputs": [
    {
     "name": "stdout",
     "output_type": "stream",
     "text": [
      "Average Cross-Validation Score: -9.075933075933076e-06\n",
      "Positive MSE Cross-Validation Scores: [3.37194337e-05 0.00000000e+00 1.16087516e-05 2.57400257e-08\n",
      " 2.57400257e-08]\n",
      "Root Mean Squared Error: 0.00021919864974047657\n"
     ]
    }
   ],
   "source": [
    "from sklearn.model_selection import cross_val_score\n",
    "\n",
    "# Evaluate the model using cross-validation, with a suitable regression metric, like the negative mean squared error\n",
    "cv_scores = cross_val_score(model, X_train, y_train, cv=5, scoring='neg_mean_squared_error')\n",
    "\n",
    "\n",
    "# Calculate the average cross-validation score\n",
    "average_cv_score = np.mean(cv_scores)\n",
    "\n",
    "print(f\"Average Cross-Validation Score: {average_cv_score}\")\n",
    "positive_mse_cv_scores = -cv_scores\n",
    "print(f\"Positive MSE Cross-Validation Scores: {positive_mse_cv_scores}\")\n",
    "rmse = np.sqrt(mse)\n",
    "print(f\"Root Mean Squared Error: {rmse}\")\n"
   ]
  },
  {
   "cell_type": "markdown",
   "metadata": {},
   "source": [
    "### Project Summary: Driving Behavior Analysis and Risk Assessment in Simulated Environments\n",
    "\n",
    "#### Overview\n",
    "\n",
    "This project focuses on the development and implementation of a comprehensive system for analyzing, quantifying, and predicting driver behavior, as well as assessing risks in simulated driving environments. Utilizing a combination of machine learning techniques and kinematic data analysis, the project aims to enhance understanding of driving safety and performance.\n",
    "\n",
    "#### Key Components and Processes\n",
    "\n",
    "1. **Data Preprocessing**: \n",
    "   - Involved cleansing and normalization of raw data from a driving simulator, which included metrics like velocity, acceleration, braking, steering, and lane deviation.\n",
    "   - Synchronization with video data for a cohesive analysis.\n",
    "\n",
    "2. **Driver Risk Assessment**: \n",
    "   - Developed a model to quantify risky driving behavior based on parameters like speed, acceleration, and lane deviations.\n",
    "   - Utilized percentile-based thresholds to flag high-risk incidents.\n",
    "   - The RandomForestRegressor model predicted a `RiskScore` indicating the overall risk level of the driver's behavior. However, the model's accuracy suggested overfitting, likely due to the direct relationship between features and the computed `RiskScore`.\n",
    "\n",
    "3. **Environmental Risk Quantification**: \n",
    "   - Used a pre-trained YOLO model for object detection in video data.\n",
    "   - Identified and scored potential hazards like other vehicles and pedestrians to quantify environmental risks.\n",
    "\n",
    "4. **Object Annotation in Video Data**: \n",
    "   - Annotated video frames with detected hazards, providing visual cues for analysis and training purposes.\n",
    "\n",
    "5. **Machine Learning Model Development and Validation**: \n",
    "   - Apart from the RandomForestRegressor for driver risk, the project employed cross-validation and other evaluation metrics to ensure model reliability and generalization.\n",
    "\n",
    "6. **Finalizing and Reporting**: \n",
    "   - Compiled comprehensive documentation for each component of the project.\n",
    "   - Analyzed and interpreted results for practical applications like driver training and simulation enhancement.\n",
    "\n",
    "#### Outcomes and Conclusions\n",
    "\n",
    "- The project successfully demonstrates a multifaceted approach to risk assessment in driving, integrating kinematic data and video analysis.\n",
    "- The driver risk assessment model, despite its overfitting issue, provides valuable insights into risky behaviors, underscoring the need for careful feature selection in predictive modeling.\n",
    "- The environmental risk assessment through object detection highlights potential external hazards, contributing to a more rounded understanding of driving safety.\n",
    "- Annotations in video data serve as a powerful tool for visualization and education, enhancing the interpretability of risk factors in simulated environments.\n",
    "\n",
    "#### Future Directions\n",
    "\n",
    "- Addressing the overfitting issue in the driver risk model through feature engineering and external validation.\n",
    "- Enhancing the object detection framework to include more nuanced categories of hazards and integrating it with the kinematic data for a more comprehensive risk analysis.\n",
    "- Expanding the model to adapt to different types of driving scenarios and environments for broader applicability.\n",
    "\n",
    "#### Implications\n",
    "\n",
    "This project sets the stage for advanced driving safety analysis, offering methodologies that can be extended to real-world applications. It provides a foundation for improving driver training programs, enhancing driving simulations, and potentially influencing the development of safety features in autonomous driving systems.\n"
   ]
  },
  {
   "cell_type": "markdown",
   "metadata": {},
   "source": []
  }
 ],
 "metadata": {
  "kernelspec": {
   "display_name": ".venv",
   "language": "python",
   "name": "python3"
  },
  "language_info": {
   "codemirror_mode": {
    "name": "ipython",
    "version": 3
   },
   "file_extension": ".py",
   "mimetype": "text/x-python",
   "name": "python",
   "nbconvert_exporter": "python",
   "pygments_lexer": "ipython3",
   "version": "3.11.5"
  }
 },
 "nbformat": 4,
 "nbformat_minor": 2
}
